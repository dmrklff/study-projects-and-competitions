{
  "nbformat": 4,
  "nbformat_minor": 0,
  "metadata": {
    "kernelspec": {
      "display_name": "Python 3",
      "language": "python",
      "name": "python3"
    },
    "language_info": {
      "codemirror_mode": {
        "name": "ipython",
        "version": 3
      },
      "file_extension": ".py",
      "mimetype": "text/x-python",
      "name": "python",
      "nbconvert_exporter": "python",
      "pygments_lexer": "ipython3",
      "version": "3.7.4"
    },
    "colab": {
      "name": "churn_prediction.ipynb\"",
      "provenance": [],
      "collapsed_sections": []
    }
  },
  "cells": [
    {
      "cell_type": "code",
      "metadata": {
        "id": "lzLqEeZKEEYz"
      },
      "source": [
        "import pandas as pd\n",
        "import numpy as np\n",
        "from matplotlib import pyplot as plt\n",
        "from sklearn.metrics import roc_auc_score"
      ],
      "execution_count": null,
      "outputs": []
    },
    {
      "cell_type": "code",
      "metadata": {
        "id": "BLQXdYIun6Yd",
        "colab": {
          "base_uri": "https://localhost:8080/"
        },
        "outputId": "43d0d780-6549-4e4b-b6b4-991c94f493a6"
      },
      "source": [
        "from google.colab import drive\n",
        "drive.mount('/content/drive')"
      ],
      "execution_count": null,
      "outputs": [
        {
          "output_type": "stream",
          "text": [
            "Drive already mounted at /content/drive; to attempt to forcibly remount, call drive.mount(\"/content/drive\", force_remount=True).\n"
          ],
          "name": "stdout"
        }
      ]
    },
    {
      "cell_type": "code",
      "metadata": {
        "id": "pw-Brue9EEY3"
      },
      "source": [
        "data = pd.read_csv('/content/drive/My Drive/HW3/train.csv')\n"
      ],
      "execution_count": null,
      "outputs": []
    },
    {
      "cell_type": "code",
      "metadata": {
        "id": "KgnkkF5bEEY9",
        "colab": {
          "base_uri": "https://localhost:8080/",
          "height": 530
        },
        "outputId": "12b71dbc-2748-47a1-8411-3e15df49a755"
      },
      "source": [
        "num_cols = [\n",
        "    'ClientPeriod',\n",
        "    'MonthlySpending',\n",
        "    'TotalSpent'\n",
        "]\n",
        "\n",
        "cat_cols = [\n",
        "    'Sex',\n",
        "    'IsSeniorCitizen',\n",
        "    'HasPartner',\n",
        "    'HasChild',\n",
        "    'HasPhoneService',\n",
        "    'HasMultiplePhoneNumbers',\n",
        "    'HasInternetService',\n",
        "    'HasOnlineSecurityService',\n",
        "    'HasOnlineBackup',\n",
        "    'HasDeviceProtection',\n",
        "    'HasTechSupportAccess',\n",
        "    'HasOnlineTV',\n",
        "    'HasMovieSubscription',\n",
        "    'HasContractPhone',\n",
        "    'IsBillingPaperless',\n",
        "    'PaymentMethod'\n",
        "]\n",
        "\n",
        "feature_cols = num_cols + cat_cols\n",
        "target_col = 'Churn'\n",
        "data"
      ],
      "execution_count": null,
      "outputs": [
        {
          "output_type": "execute_result",
          "data": {
            "text/html": [
              "<div>\n",
              "<style scoped>\n",
              "    .dataframe tbody tr th:only-of-type {\n",
              "        vertical-align: middle;\n",
              "    }\n",
              "\n",
              "    .dataframe tbody tr th {\n",
              "        vertical-align: top;\n",
              "    }\n",
              "\n",
              "    .dataframe thead th {\n",
              "        text-align: right;\n",
              "    }\n",
              "</style>\n",
              "<table border=\"1\" class=\"dataframe\">\n",
              "  <thead>\n",
              "    <tr style=\"text-align: right;\">\n",
              "      <th></th>\n",
              "      <th>ClientPeriod</th>\n",
              "      <th>MonthlySpending</th>\n",
              "      <th>TotalSpent</th>\n",
              "      <th>Sex</th>\n",
              "      <th>IsSeniorCitizen</th>\n",
              "      <th>HasPartner</th>\n",
              "      <th>HasChild</th>\n",
              "      <th>HasPhoneService</th>\n",
              "      <th>HasMultiplePhoneNumbers</th>\n",
              "      <th>HasInternetService</th>\n",
              "      <th>HasOnlineSecurityService</th>\n",
              "      <th>HasOnlineBackup</th>\n",
              "      <th>HasDeviceProtection</th>\n",
              "      <th>HasTechSupportAccess</th>\n",
              "      <th>HasOnlineTV</th>\n",
              "      <th>HasMovieSubscription</th>\n",
              "      <th>HasContractPhone</th>\n",
              "      <th>IsBillingPaperless</th>\n",
              "      <th>PaymentMethod</th>\n",
              "      <th>Churn</th>\n",
              "    </tr>\n",
              "  </thead>\n",
              "  <tbody>\n",
              "    <tr>\n",
              "      <th>0</th>\n",
              "      <td>55</td>\n",
              "      <td>19.50</td>\n",
              "      <td>1026.35</td>\n",
              "      <td>Male</td>\n",
              "      <td>0</td>\n",
              "      <td>Yes</td>\n",
              "      <td>Yes</td>\n",
              "      <td>Yes</td>\n",
              "      <td>No</td>\n",
              "      <td>No</td>\n",
              "      <td>No internet service</td>\n",
              "      <td>No internet service</td>\n",
              "      <td>No internet service</td>\n",
              "      <td>No internet service</td>\n",
              "      <td>No internet service</td>\n",
              "      <td>No internet service</td>\n",
              "      <td>One year</td>\n",
              "      <td>No</td>\n",
              "      <td>Mailed check</td>\n",
              "      <td>0</td>\n",
              "    </tr>\n",
              "    <tr>\n",
              "      <th>1</th>\n",
              "      <td>72</td>\n",
              "      <td>25.85</td>\n",
              "      <td>1872.2</td>\n",
              "      <td>Male</td>\n",
              "      <td>0</td>\n",
              "      <td>Yes</td>\n",
              "      <td>No</td>\n",
              "      <td>Yes</td>\n",
              "      <td>Yes</td>\n",
              "      <td>No</td>\n",
              "      <td>No internet service</td>\n",
              "      <td>No internet service</td>\n",
              "      <td>No internet service</td>\n",
              "      <td>No internet service</td>\n",
              "      <td>No internet service</td>\n",
              "      <td>No internet service</td>\n",
              "      <td>Two year</td>\n",
              "      <td>No</td>\n",
              "      <td>Credit card (automatic)</td>\n",
              "      <td>0</td>\n",
              "    </tr>\n",
              "    <tr>\n",
              "      <th>2</th>\n",
              "      <td>1</td>\n",
              "      <td>75.90</td>\n",
              "      <td>75.9</td>\n",
              "      <td>Male</td>\n",
              "      <td>0</td>\n",
              "      <td>No</td>\n",
              "      <td>No</td>\n",
              "      <td>Yes</td>\n",
              "      <td>No</td>\n",
              "      <td>Fiber optic</td>\n",
              "      <td>No</td>\n",
              "      <td>No</td>\n",
              "      <td>No</td>\n",
              "      <td>Yes</td>\n",
              "      <td>No</td>\n",
              "      <td>No</td>\n",
              "      <td>Month-to-month</td>\n",
              "      <td>Yes</td>\n",
              "      <td>Electronic check</td>\n",
              "      <td>1</td>\n",
              "    </tr>\n",
              "    <tr>\n",
              "      <th>3</th>\n",
              "      <td>32</td>\n",
              "      <td>79.30</td>\n",
              "      <td>2570</td>\n",
              "      <td>Female</td>\n",
              "      <td>1</td>\n",
              "      <td>Yes</td>\n",
              "      <td>No</td>\n",
              "      <td>Yes</td>\n",
              "      <td>Yes</td>\n",
              "      <td>Fiber optic</td>\n",
              "      <td>No</td>\n",
              "      <td>No</td>\n",
              "      <td>Yes</td>\n",
              "      <td>No</td>\n",
              "      <td>No</td>\n",
              "      <td>No</td>\n",
              "      <td>Month-to-month</td>\n",
              "      <td>No</td>\n",
              "      <td>Mailed check</td>\n",
              "      <td>0</td>\n",
              "    </tr>\n",
              "    <tr>\n",
              "      <th>4</th>\n",
              "      <td>60</td>\n",
              "      <td>115.25</td>\n",
              "      <td>6758.45</td>\n",
              "      <td>Female</td>\n",
              "      <td>0</td>\n",
              "      <td>Yes</td>\n",
              "      <td>Yes</td>\n",
              "      <td>Yes</td>\n",
              "      <td>Yes</td>\n",
              "      <td>Fiber optic</td>\n",
              "      <td>Yes</td>\n",
              "      <td>Yes</td>\n",
              "      <td>Yes</td>\n",
              "      <td>Yes</td>\n",
              "      <td>Yes</td>\n",
              "      <td>Yes</td>\n",
              "      <td>Two year</td>\n",
              "      <td>No</td>\n",
              "      <td>Credit card (automatic)</td>\n",
              "      <td>0</td>\n",
              "    </tr>\n",
              "    <tr>\n",
              "      <th>...</th>\n",
              "      <td>...</td>\n",
              "      <td>...</td>\n",
              "      <td>...</td>\n",
              "      <td>...</td>\n",
              "      <td>...</td>\n",
              "      <td>...</td>\n",
              "      <td>...</td>\n",
              "      <td>...</td>\n",
              "      <td>...</td>\n",
              "      <td>...</td>\n",
              "      <td>...</td>\n",
              "      <td>...</td>\n",
              "      <td>...</td>\n",
              "      <td>...</td>\n",
              "      <td>...</td>\n",
              "      <td>...</td>\n",
              "      <td>...</td>\n",
              "      <td>...</td>\n",
              "      <td>...</td>\n",
              "      <td>...</td>\n",
              "    </tr>\n",
              "    <tr>\n",
              "      <th>5277</th>\n",
              "      <td>3</td>\n",
              "      <td>30.40</td>\n",
              "      <td>82.15</td>\n",
              "      <td>Male</td>\n",
              "      <td>0</td>\n",
              "      <td>No</td>\n",
              "      <td>No</td>\n",
              "      <td>No</td>\n",
              "      <td>No phone service</td>\n",
              "      <td>DSL</td>\n",
              "      <td>No</td>\n",
              "      <td>No</td>\n",
              "      <td>No</td>\n",
              "      <td>Yes</td>\n",
              "      <td>No</td>\n",
              "      <td>No</td>\n",
              "      <td>Month-to-month</td>\n",
              "      <td>No</td>\n",
              "      <td>Electronic check</td>\n",
              "      <td>0</td>\n",
              "    </tr>\n",
              "    <tr>\n",
              "      <th>5278</th>\n",
              "      <td>50</td>\n",
              "      <td>44.45</td>\n",
              "      <td>2188.45</td>\n",
              "      <td>Male</td>\n",
              "      <td>0</td>\n",
              "      <td>Yes</td>\n",
              "      <td>No</td>\n",
              "      <td>No</td>\n",
              "      <td>No phone service</td>\n",
              "      <td>DSL</td>\n",
              "      <td>Yes</td>\n",
              "      <td>No</td>\n",
              "      <td>No</td>\n",
              "      <td>Yes</td>\n",
              "      <td>Yes</td>\n",
              "      <td>No</td>\n",
              "      <td>One year</td>\n",
              "      <td>Yes</td>\n",
              "      <td>Bank transfer (automatic)</td>\n",
              "      <td>0</td>\n",
              "    </tr>\n",
              "    <tr>\n",
              "      <th>5279</th>\n",
              "      <td>1</td>\n",
              "      <td>55.05</td>\n",
              "      <td>55.05</td>\n",
              "      <td>Male</td>\n",
              "      <td>0</td>\n",
              "      <td>No</td>\n",
              "      <td>No</td>\n",
              "      <td>Yes</td>\n",
              "      <td>No</td>\n",
              "      <td>DSL</td>\n",
              "      <td>No</td>\n",
              "      <td>No</td>\n",
              "      <td>Yes</td>\n",
              "      <td>Yes</td>\n",
              "      <td>No</td>\n",
              "      <td>No</td>\n",
              "      <td>Month-to-month</td>\n",
              "      <td>No</td>\n",
              "      <td>Mailed check</td>\n",
              "      <td>0</td>\n",
              "    </tr>\n",
              "    <tr>\n",
              "      <th>5280</th>\n",
              "      <td>29</td>\n",
              "      <td>76.00</td>\n",
              "      <td>2215.25</td>\n",
              "      <td>Female</td>\n",
              "      <td>0</td>\n",
              "      <td>No</td>\n",
              "      <td>No</td>\n",
              "      <td>Yes</td>\n",
              "      <td>Yes</td>\n",
              "      <td>Fiber optic</td>\n",
              "      <td>No</td>\n",
              "      <td>No</td>\n",
              "      <td>No</td>\n",
              "      <td>No</td>\n",
              "      <td>No</td>\n",
              "      <td>No</td>\n",
              "      <td>Month-to-month</td>\n",
              "      <td>Yes</td>\n",
              "      <td>Credit card (automatic)</td>\n",
              "      <td>0</td>\n",
              "    </tr>\n",
              "    <tr>\n",
              "      <th>5281</th>\n",
              "      <td>19</td>\n",
              "      <td>75.90</td>\n",
              "      <td>1375.6</td>\n",
              "      <td>Female</td>\n",
              "      <td>0</td>\n",
              "      <td>No</td>\n",
              "      <td>Yes</td>\n",
              "      <td>Yes</td>\n",
              "      <td>Yes</td>\n",
              "      <td>DSL</td>\n",
              "      <td>Yes</td>\n",
              "      <td>Yes</td>\n",
              "      <td>No</td>\n",
              "      <td>Yes</td>\n",
              "      <td>Yes</td>\n",
              "      <td>No</td>\n",
              "      <td>Month-to-month</td>\n",
              "      <td>Yes</td>\n",
              "      <td>Mailed check</td>\n",
              "      <td>0</td>\n",
              "    </tr>\n",
              "  </tbody>\n",
              "</table>\n",
              "<p>5282 rows × 20 columns</p>\n",
              "</div>"
            ],
            "text/plain": [
              "      ClientPeriod  MonthlySpending  ...              PaymentMethod Churn\n",
              "0               55            19.50  ...               Mailed check     0\n",
              "1               72            25.85  ...    Credit card (automatic)     0\n",
              "2                1            75.90  ...           Electronic check     1\n",
              "3               32            79.30  ...               Mailed check     0\n",
              "4               60           115.25  ...    Credit card (automatic)     0\n",
              "...            ...              ...  ...                        ...   ...\n",
              "5277             3            30.40  ...           Electronic check     0\n",
              "5278            50            44.45  ...  Bank transfer (automatic)     0\n",
              "5279             1            55.05  ...               Mailed check     0\n",
              "5280            29            76.00  ...    Credit card (automatic)     0\n",
              "5281            19            75.90  ...               Mailed check     0\n",
              "\n",
              "[5282 rows x 20 columns]"
            ]
          },
          "metadata": {
            "tags": []
          },
          "execution_count": 50
        }
      ]
    },
    {
      "cell_type": "code",
      "metadata": {
        "id": "tHC6gWabEEZA",
        "colab": {
          "base_uri": "https://localhost:8080/"
        },
        "outputId": "a589c5b5-f008-4aab-d1a8-63b6b0964ef4"
      },
      "source": [
        "data.isna().mean()"
      ],
      "execution_count": null,
      "outputs": [
        {
          "output_type": "execute_result",
          "data": {
            "text/plain": [
              "ClientPeriod                0.0\n",
              "MonthlySpending             0.0\n",
              "TotalSpent                  0.0\n",
              "Sex                         0.0\n",
              "IsSeniorCitizen             0.0\n",
              "HasPartner                  0.0\n",
              "HasChild                    0.0\n",
              "HasPhoneService             0.0\n",
              "HasMultiplePhoneNumbers     0.0\n",
              "HasInternetService          0.0\n",
              "HasOnlineSecurityService    0.0\n",
              "HasOnlineBackup             0.0\n",
              "HasDeviceProtection         0.0\n",
              "HasTechSupportAccess        0.0\n",
              "HasOnlineTV                 0.0\n",
              "HasMovieSubscription        0.0\n",
              "HasContractPhone            0.0\n",
              "IsBillingPaperless          0.0\n",
              "PaymentMethod               0.0\n",
              "Churn                       0.0\n",
              "dtype: float64"
            ]
          },
          "metadata": {
            "tags": []
          },
          "execution_count": 51
        }
      ]
    },
    {
      "cell_type": "code",
      "metadata": {
        "id": "WzySjeD0XBTC",
        "colab": {
          "base_uri": "https://localhost:8080/"
        },
        "outputId": "c31f9ddf-0da2-4be2-a987-f520982c705b"
      },
      "source": [
        "data=data.replace(\" \", np.nan)\n",
        "data = data.replace('?', np.nan)\n",
        "data = data.dropna()\n",
        "data['TotalSpent']=pd.to_numeric(data['TotalSpent'])\n",
        "data['TotalSpent']"
      ],
      "execution_count": null,
      "outputs": [
        {
          "output_type": "execute_result",
          "data": {
            "text/plain": [
              "0       1026.35\n",
              "1       1872.20\n",
              "2         75.90\n",
              "3       2570.00\n",
              "4       6758.45\n",
              "         ...   \n",
              "5277      82.15\n",
              "5278    2188.45\n",
              "5279      55.05\n",
              "5280    2215.25\n",
              "5281    1375.60\n",
              "Name: TotalSpent, Length: 5273, dtype: float64"
            ]
          },
          "metadata": {
            "tags": []
          },
          "execution_count": 52
        }
      ]
    },
    {
      "cell_type": "code",
      "metadata": {
        "id": "NZkbgFJZEEZE",
        "colab": {
          "base_uri": "https://localhost:8080/",
          "height": 375
        },
        "outputId": "cdd48730-89ab-427e-cacd-db5137042c2f"
      },
      "source": [
        "import seaborn as sns\n",
        "data.hist(column = num_cols)"
      ],
      "execution_count": null,
      "outputs": [
        {
          "output_type": "execute_result",
          "data": {
            "text/plain": [
              "array([[<matplotlib.axes._subplots.AxesSubplot object at 0x7fa78e4b9c90>,\n",
              "        <matplotlib.axes._subplots.AxesSubplot object at 0x7fa78e329750>],\n",
              "       [<matplotlib.axes._subplots.AxesSubplot object at 0x7fa78e2dbdd0>,\n",
              "        <matplotlib.axes._subplots.AxesSubplot object at 0x7fa78e29e490>]],\n",
              "      dtype=object)"
            ]
          },
          "metadata": {
            "tags": []
          },
          "execution_count": 53
        },
        {
          "output_type": "display_data",
          "data": {
            "image/png": "[encoded data removed]",
            "text/plain": [
              "<Figure size 432x288 with 4 Axes>"
            ]
          },
          "metadata": {
            "tags": [],
            "needs_background": "light"
          }
        }
      ]
    },
    {
      "cell_type": "code",
      "metadata": {
        "id": "Mpq5iaiCcKqx",
        "colab": {
          "base_uri": "https://localhost:8080/"
        },
        "outputId": "5afd7395-be9c-4894-cfba-837cbc2af1bb"
      },
      "source": [
        "for column in cat_cols:\n",
        "  print(f\"{column} distribution:\")\n",
        "  print(data[column].value_counts())\n",
        "  print()"
      ],
      "execution_count": null,
      "outputs": [
        {
          "output_type": "stream",
          "text": [
            "Sex distribution:\n",
            "Male      2651\n",
            "Female    2622\n",
            "Name: Sex, dtype: int64\n",
            "\n",
            "IsSeniorCitizen distribution:\n",
            "0    4431\n",
            "1     842\n",
            "Name: IsSeniorCitizen, dtype: int64\n",
            "\n",
            "HasPartner distribution:\n",
            "No     2704\n",
            "Yes    2569\n",
            "Name: HasPartner, dtype: int64\n",
            "\n",
            "HasChild distribution:\n",
            "No     3676\n",
            "Yes    1597\n",
            "Name: HasChild, dtype: int64\n",
            "\n",
            "HasPhoneService distribution:\n",
            "Yes    4754\n",
            "No      519\n",
            "Name: HasPhoneService, dtype: int64\n",
            "\n",
            "HasMultiplePhoneNumbers distribution:\n",
            "No                  2508\n",
            "Yes                 2246\n",
            "No phone service     519\n",
            "Name: HasMultiplePhoneNumbers, dtype: int64\n",
            "\n",
            "HasInternetService distribution:\n",
            "Fiber optic    2341\n",
            "DSL            1795\n",
            "No             1137\n",
            "Name: HasInternetService, dtype: int64\n",
            "\n",
            "HasOnlineSecurityService distribution:\n",
            "No                     2611\n",
            "Yes                    1525\n",
            "No internet service    1137\n",
            "Name: HasOnlineSecurityService, dtype: int64\n",
            "\n",
            "HasOnlineBackup distribution:\n",
            "No                     2331\n",
            "Yes                    1805\n",
            "No internet service    1137\n",
            "Name: HasOnlineBackup, dtype: int64\n",
            "\n",
            "HasDeviceProtection distribution:\n",
            "No                     2316\n",
            "Yes                    1820\n",
            "No internet service    1137\n",
            "Name: HasDeviceProtection, dtype: int64\n",
            "\n",
            "HasTechSupportAccess distribution:\n",
            "No                     2603\n",
            "Yes                    1533\n",
            "No internet service    1137\n",
            "Name: HasTechSupportAccess, dtype: int64\n",
            "\n",
            "HasOnlineTV distribution:\n",
            "No                     2098\n",
            "Yes                    2038\n",
            "No internet service    1137\n",
            "Name: HasOnlineTV, dtype: int64\n",
            "\n",
            "HasMovieSubscription distribution:\n",
            "No                     2077\n",
            "Yes                    2059\n",
            "No internet service    1137\n",
            "Name: HasMovieSubscription, dtype: int64\n",
            "\n",
            "HasContractPhone distribution:\n",
            "Month-to-month    2920\n",
            "Two year          1272\n",
            "One year          1081\n",
            "Name: HasContractPhone, dtype: int64\n",
            "\n",
            "IsBillingPaperless distribution:\n",
            "Yes    3145\n",
            "No     2128\n",
            "Name: IsBillingPaperless, dtype: int64\n",
            "\n",
            "PaymentMethod distribution:\n",
            "Electronic check             1786\n",
            "Mailed check                 1188\n",
            "Bank transfer (automatic)    1157\n",
            "Credit card (automatic)      1142\n",
            "Name: PaymentMethod, dtype: int64\n",
            "\n"
          ],
          "name": "stdout"
        }
      ]
    },
    {
      "cell_type": "code",
      "metadata": {
        "id": "OLf5f8FYcqKR",
        "colab": {
          "base_uri": "https://localhost:8080/",
          "height": 932
        },
        "outputId": "eadf5853-609a-4b63-9a3f-2771d1aad397"
      },
      "source": [
        "fig, axarr = plt.subplots(4, 4, figsize=(16,16))\n",
        "i = [0,0,0,0,1,1,1,1,2,2,2,2,3,3,3,3]\n",
        "j = [0,1,2,3,0,1,2,3,0,1,2,3,0,1,2,3]\n",
        "for column in cat_cols:\n",
        "  sns.countplot(x=data[column], data=data, ax=axarr[i.pop()][j.pop()])"
      ],
      "execution_count": null,
      "outputs": [
        {
          "output_type": "display_data",
          "data": {
            "image/png": "[encoded data removed]",
            "text/plain": [
              "<Figure size 1152x1152 with 16 Axes>"
            ]
          },
          "metadata": {
            "tags": [],
            "needs_background": "light"
          }
        }
      ]
    },
    {
      "cell_type": "code",
      "metadata": {
        "id": "x7PnMt8F8mWJ",
        "colab": {
          "base_uri": "https://localhost:8080/",
          "height": 373
        },
        "outputId": "2ac21587-f97f-45df-8b02-8921db0429d0"
      },
      "source": [
        "labels = 'Churned', 'Retained'\n",
        "sizes = [data.Churn[data['Churn']==1].count(), data.Churn[data['Churn']==0].count()]\n",
        "explode = (0, 0.1)\n",
        "fig1, ax1 = plt.subplots(figsize=(8, 6))\n",
        "ax1.pie(sizes, explode=explode, labels=labels, autopct='%1.1f%%', startangle = 90)\n",
        "ax1.axis('equal')\n",
        "plt.title(\"Retained and churned customers\")\n",
        "plt.show()"
      ],
      "execution_count": null,
      "outputs": [
        {
          "output_type": "display_data",
          "data": {
            "image/png": "[encoded data removed]",
            "text/plain": [
              "<Figure size 576x432 with 1 Axes>"
            ]
          },
          "metadata": {
            "tags": []
          }
        }
      ]
    },
    {
      "cell_type": "code",
      "metadata": {
        "id": "xHCLDmwqEEZL"
      },
      "source": [
        "from sklearn.linear_model import LogisticRegression, LogisticRegressionCV\n",
        "from sklearn.model_selection import train_test_split, GridSearchCV\n",
        "from sklearn.preprocessing import StandardScaler, RobustScaler, LabelEncoder, OneHotEncoder\n",
        "from sklearn.pipeline import make_pipeline\n",
        "from sklearn.impute import SimpleImputer\n",
        "from sklearn.compose import ColumnTransformer"
      ],
      "execution_count": null,
      "outputs": []
    },
    {
      "cell_type": "code",
      "metadata": {
        "id": "aH6Yvvq6xte1"
      },
      "source": [
        "X = data.drop(target_col, axis=1).copy()\n",
        "X = X.fillna(np.mean(X))\n",
        "y = data[target_col]"
      ],
      "execution_count": null,
      "outputs": []
    },
    {
      "cell_type": "code",
      "metadata": {
        "id": "SKinv1W4jytg",
        "colab": {
          "base_uri": "https://localhost:8080/"
        },
        "outputId": "0354c2a4-a836-4f1b-a9f2-6687488bd596"
      },
      "source": [
        "num_transform = make_pipeline(SimpleImputer(), RobustScaler())\n",
        "cat_transform = make_pipeline(OneHotEncoder())\n",
        "\n",
        "preprocessor = ColumnTransformer(\n",
        "    transformers = [\n",
        "                    ('num', num_transform, num_cols),\n",
        "                    ('cat', cat_transform, cat_cols)\n",
        "    ]\n",
        ")\n",
        "\n",
        "clf = make_pipeline(preprocessor, LogisticRegression(C = 100, max_iter=1000, intercept_scaling=1.0, penalty='l2', tol=0.0001))\n",
        "\n",
        "optimizer = GridSearchCV(clf, param_grid = {'logisticregression__C': [100, 10, 1, 0.1, 0.01, 0.001]}, cv = 5, refit=True, scoring='roc_auc')\n",
        "optimizer.fit(X, y)"
      ],
      "execution_count": null,
      "outputs": [
        {
          "output_type": "execute_result",
          "data": {
            "text/plain": [
              "GridSearchCV(cv=5, error_score=nan,\n",
              "             estimator=Pipeline(memory=None,\n",
              "                                steps=[('columntransformer',\n",
              "                                        ColumnTransformer(n_jobs=None,\n",
              "                                                          remainder='drop',\n",
              "                                                          sparse_threshold=0.3,\n",
              "                                                          transformer_weights=None,\n",
              "                                                          transformers=[('num',\n",
              "                                                                         Pipeline(memory=None,\n",
              "                                                                                  steps=[('simpleimputer',\n",
              "                                                                                          SimpleImputer(add_indicator=False,\n",
              "                                                                                                        copy=True,\n",
              "                                                                                                        fill_value=None,\n",
              "                                                                                                        missing_values=nan,\n",
              "                                                                                                        strategy='mean',\n",
              "                                                                                                        ver...\n",
              "                                                           intercept_scaling=1.0,\n",
              "                                                           l1_ratio=None,\n",
              "                                                           max_iter=1000,\n",
              "                                                           multi_class='auto',\n",
              "                                                           n_jobs=None,\n",
              "                                                           penalty='l2',\n",
              "                                                           random_state=None,\n",
              "                                                           solver='lbfgs',\n",
              "                                                           tol=0.0001,\n",
              "                                                           verbose=0,\n",
              "                                                           warm_start=False))],\n",
              "                                verbose=False),\n",
              "             iid='deprecated', n_jobs=None,\n",
              "             param_grid={'logisticregression__C': [100, 10, 1, 0.1, 0.01,\n",
              "                                                   0.001]},\n",
              "             pre_dispatch='2*n_jobs', refit=True, return_train_score=False,\n",
              "             scoring='roc_auc', verbose=0)"
            ]
          },
          "metadata": {
            "tags": []
          },
          "execution_count": 60
        }
      ]
    },
    {
      "cell_type": "code",
      "metadata": {
        "id": "2DI54hSZy54f",
        "colab": {
          "base_uri": "https://localhost:8080/"
        },
        "outputId": "2525c2b6-e7b9-492b-a222-248070fdb334"
      },
      "source": [
        "print(optimizer.best_params_)\n",
        "print(optimizer.best_score_)"
      ],
      "execution_count": null,
      "outputs": [
        {
          "output_type": "stream",
          "text": [
            "{'logisticregression__C': 100}\n",
            "0.8448441343271671\n"
          ],
          "name": "stdout"
        }
      ]
    },
    {
      "cell_type": "code",
      "metadata": {
        "id": "98OhEVjXzVMn",
        "colab": {
          "base_uri": "https://localhost:8080/"
        },
        "outputId": "02ffaa14-f907-450b-8592-ae77c7b1582f"
      },
      "source": [
        "{'logisticregression__C': 100}\n",
        "0.8448441343271671"
      ],
      "execution_count": null,
      "outputs": [
        {
          "output_type": "execute_result",
          "data": {
            "text/plain": [
              "0.8448441343271671"
            ]
          },
          "metadata": {
            "tags": []
          },
          "execution_count": 62
        }
      ]
    },
    {
      "cell_type": "code",
      "metadata": {
        "id": "i2DbMGBT2uFi",
        "colab": {
          "base_uri": "https://localhost:8080/"
        },
        "outputId": "b71a664a-ce7b-453d-c5ec-0b17760a620c"
      },
      "source": [
        "!pip install catboost\n",
        "import catboost as catboost"
      ],
      "execution_count": null,
      "outputs": [
        {
          "output_type": "stream",
          "text": [
            "Requirement already satisfied: catboost in /usr/local/lib/python3.7/dist-packages (0.24.4)\n",
            "Requirement already satisfied: plotly in /usr/local/lib/python3.7/dist-packages (from catboost) (4.4.1)\n",
            "Requirement already satisfied: numpy>=1.16.0 in /usr/local/lib/python3.7/dist-packages (from catboost) (1.19.5)\n",
            "Requirement already satisfied: graphviz in /usr/local/lib/python3.7/dist-packages (from catboost) (0.10.1)\n",
            "Requirement already satisfied: scipy in /usr/local/lib/python3.7/dist-packages (from catboost) (1.4.1)\n",
            "Requirement already satisfied: matplotlib in /usr/local/lib/python3.7/dist-packages (from catboost) (3.2.2)\n",
            "Requirement already satisfied: pandas>=0.24.0 in /usr/local/lib/python3.7/dist-packages (from catboost) (1.1.5)\n",
            "Requirement already satisfied: six in /usr/local/lib/python3.7/dist-packages (from catboost) (1.15.0)\n",
            "Requirement already satisfied: retrying>=1.3.3 in /usr/local/lib/python3.7/dist-packages (from plotly->catboost) (1.3.3)\n",
            "Requirement already satisfied: cycler>=0.10 in /usr/local/lib/python3.7/dist-packages (from matplotlib->catboost) (0.10.0)\n",
            "Requirement already satisfied: pyparsing!=2.0.4,!=2.1.2,!=2.1.6,>=2.0.1 in /usr/local/lib/python3.7/dist-packages (from matplotlib->catboost) (2.4.7)\n",
            "Requirement already satisfied: kiwisolver>=1.0.1 in /usr/local/lib/python3.7/dist-packages (from matplotlib->catboost) (1.3.1)\n",
            "Requirement already satisfied: python-dateutil>=2.1 in /usr/local/lib/python3.7/dist-packages (from matplotlib->catboost) (2.8.1)\n",
            "Requirement already satisfied: pytz>=2017.2 in /usr/local/lib/python3.7/dist-packages (from pandas>=0.24.0->catboost) (2018.9)\n"
          ],
          "name": "stdout"
        }
      ]
    },
    {
      "cell_type": "code",
      "metadata": {
        "id": "w6HtKfgv2zGF"
      },
      "source": [
        "X_train, X_test, y_train, y_test = train_test_split(X, y, \n",
        "                                                       train_size=0.8, \n",
        "                                                       random_state=42)"
      ],
      "execution_count": null,
      "outputs": []
    },
    {
      "cell_type": "code",
      "metadata": {
        "id": "Hf8fKQms3IR2",
        "colab": {
          "base_uri": "https://localhost:8080/"
        },
        "outputId": "ddd9e34a-daa6-4b88-9ccf-853ef6a8495e"
      },
      "source": [
        "boosting_model = catboost.CatBoostClassifier(n_estimators=100,\n",
        "                                             cat_features=cat_cols)\n",
        "# boosting_model.grid_search({'n_estimators': [50, 100, 120, 130, 140, 200],'l2_leaf_reg': np.linspace(0, 1, 20), 'depth':[1, 5, 10, 20, 50, 100]}, \n",
        "#                           X_train, \n",
        "#                           y_train)\n",
        "boosting_model.fit(X_train, y_train)\n",
        "\n",
        "y_train_predicted = boosting_model.predict_proba(X_train)[:, 1]\n",
        "y_test_predicted = boosting_model.predict_proba(X_test)[:, 1]\n",
        "\n"
      ],
      "execution_count": null,
      "outputs": [
        {
          "output_type": "stream",
          "text": [
            "Learning rate set to 0.157346\n",
            "0:\tlearn: 0.6406793\ttotal: 8ms\tremaining: 792ms\n",
            "1:\tlearn: 0.6000178\ttotal: 13.8ms\tremaining: 679ms\n",
            "2:\tlearn: 0.5677527\ttotal: 19.2ms\tremaining: 621ms\n",
            "3:\tlearn: 0.5422105\ttotal: 25.5ms\tremaining: 613ms\n",
            "4:\tlearn: 0.5230888\ttotal: 30.8ms\tremaining: 586ms\n",
            "5:\tlearn: 0.5071938\ttotal: 37ms\tremaining: 579ms\n",
            "6:\tlearn: 0.4951055\ttotal: 42.1ms\tremaining: 559ms\n",
            "7:\tlearn: 0.4814938\ttotal: 47.4ms\tremaining: 545ms\n",
            "8:\tlearn: 0.4700201\ttotal: 52.5ms\tremaining: 531ms\n",
            "9:\tlearn: 0.4607294\ttotal: 58.1ms\tremaining: 523ms\n",
            "10:\tlearn: 0.4531994\ttotal: 63.2ms\tremaining: 512ms\n",
            "11:\tlearn: 0.4461136\ttotal: 68.5ms\tremaining: 502ms\n",
            "12:\tlearn: 0.4413628\ttotal: 71ms\tremaining: 475ms\n",
            "13:\tlearn: 0.4366151\ttotal: 73.6ms\tremaining: 452ms\n",
            "14:\tlearn: 0.4319057\ttotal: 79.9ms\tremaining: 453ms\n",
            "15:\tlearn: 0.4274239\ttotal: 85.6ms\tremaining: 449ms\n",
            "16:\tlearn: 0.4239771\ttotal: 91.1ms\tremaining: 445ms\n",
            "17:\tlearn: 0.4220484\ttotal: 93.2ms\tremaining: 425ms\n",
            "18:\tlearn: 0.4197172\ttotal: 98.4ms\tremaining: 419ms\n",
            "19:\tlearn: 0.4175354\ttotal: 104ms\tremaining: 414ms\n",
            "20:\tlearn: 0.4151657\ttotal: 109ms\tremaining: 409ms\n",
            "21:\tlearn: 0.4134368\ttotal: 113ms\tremaining: 401ms\n",
            "22:\tlearn: 0.4125924\ttotal: 115ms\tremaining: 386ms\n",
            "23:\tlearn: 0.4117334\ttotal: 119ms\tremaining: 378ms\n",
            "24:\tlearn: 0.4104580\ttotal: 128ms\tremaining: 384ms\n",
            "25:\tlearn: 0.4093245\ttotal: 133ms\tremaining: 380ms\n",
            "26:\tlearn: 0.4080384\ttotal: 139ms\tremaining: 375ms\n",
            "27:\tlearn: 0.4066713\ttotal: 142ms\tremaining: 366ms\n",
            "28:\tlearn: 0.4053887\ttotal: 148ms\tremaining: 362ms\n",
            "29:\tlearn: 0.4046124\ttotal: 153ms\tremaining: 357ms\n",
            "30:\tlearn: 0.4037863\ttotal: 158ms\tremaining: 353ms\n",
            "31:\tlearn: 0.4029583\ttotal: 164ms\tremaining: 348ms\n",
            "32:\tlearn: 0.4020336\ttotal: 169ms\tremaining: 343ms\n",
            "33:\tlearn: 0.4011383\ttotal: 174ms\tremaining: 338ms\n",
            "34:\tlearn: 0.4002093\ttotal: 179ms\tremaining: 333ms\n",
            "35:\tlearn: 0.3995035\ttotal: 185ms\tremaining: 328ms\n",
            "36:\tlearn: 0.3986174\ttotal: 190ms\tremaining: 323ms\n",
            "37:\tlearn: 0.3976855\ttotal: 198ms\tremaining: 323ms\n",
            "38:\tlearn: 0.3975590\ttotal: 200ms\tremaining: 313ms\n",
            "39:\tlearn: 0.3972895\ttotal: 206ms\tremaining: 309ms\n",
            "40:\tlearn: 0.3972684\ttotal: 210ms\tremaining: 302ms\n",
            "41:\tlearn: 0.3970230\ttotal: 213ms\tremaining: 294ms\n",
            "42:\tlearn: 0.3958582\ttotal: 218ms\tremaining: 289ms\n",
            "43:\tlearn: 0.3953101\ttotal: 223ms\tremaining: 284ms\n",
            "44:\tlearn: 0.3946511\ttotal: 228ms\tremaining: 279ms\n",
            "45:\tlearn: 0.3933558\ttotal: 234ms\tremaining: 274ms\n",
            "46:\tlearn: 0.3928124\ttotal: 239ms\tremaining: 269ms\n",
            "47:\tlearn: 0.3926978\ttotal: 244ms\tremaining: 264ms\n",
            "48:\tlearn: 0.3919642\ttotal: 249ms\tremaining: 259ms\n",
            "49:\tlearn: 0.3915860\ttotal: 254ms\tremaining: 254ms\n",
            "50:\tlearn: 0.3915715\ttotal: 258ms\tremaining: 248ms\n",
            "51:\tlearn: 0.3911436\ttotal: 264ms\tremaining: 244ms\n",
            "52:\tlearn: 0.3906964\ttotal: 270ms\tremaining: 239ms\n",
            "53:\tlearn: 0.3906963\ttotal: 272ms\tremaining: 232ms\n",
            "54:\tlearn: 0.3900834\ttotal: 277ms\tremaining: 227ms\n",
            "55:\tlearn: 0.3896529\ttotal: 282ms\tremaining: 221ms\n",
            "56:\tlearn: 0.3893776\ttotal: 287ms\tremaining: 217ms\n",
            "57:\tlearn: 0.3892510\ttotal: 292ms\tremaining: 211ms\n",
            "58:\tlearn: 0.3884965\ttotal: 297ms\tremaining: 207ms\n",
            "59:\tlearn: 0.3884205\ttotal: 302ms\tremaining: 202ms\n",
            "60:\tlearn: 0.3880669\ttotal: 308ms\tremaining: 197ms\n",
            "61:\tlearn: 0.3875031\ttotal: 313ms\tremaining: 192ms\n",
            "62:\tlearn: 0.3866483\ttotal: 318ms\tremaining: 187ms\n",
            "63:\tlearn: 0.3864554\ttotal: 323ms\tremaining: 182ms\n",
            "64:\tlearn: 0.3863340\ttotal: 332ms\tremaining: 179ms\n",
            "65:\tlearn: 0.3862749\ttotal: 338ms\tremaining: 174ms\n",
            "66:\tlearn: 0.3862572\ttotal: 343ms\tremaining: 169ms\n",
            "67:\tlearn: 0.3858345\ttotal: 349ms\tremaining: 164ms\n",
            "68:\tlearn: 0.3853957\ttotal: 354ms\tremaining: 159ms\n",
            "69:\tlearn: 0.3850164\ttotal: 359ms\tremaining: 154ms\n",
            "70:\tlearn: 0.3848864\ttotal: 364ms\tremaining: 149ms\n",
            "71:\tlearn: 0.3847250\ttotal: 370ms\tremaining: 144ms\n",
            "72:\tlearn: 0.3842778\ttotal: 375ms\tremaining: 139ms\n",
            "73:\tlearn: 0.3837287\ttotal: 380ms\tremaining: 133ms\n",
            "74:\tlearn: 0.3835201\ttotal: 385ms\tremaining: 128ms\n",
            "75:\tlearn: 0.3830191\ttotal: 390ms\tremaining: 123ms\n",
            "76:\tlearn: 0.3821382\ttotal: 400ms\tremaining: 119ms\n",
            "77:\tlearn: 0.3812526\ttotal: 405ms\tremaining: 114ms\n",
            "78:\tlearn: 0.3808079\ttotal: 411ms\tremaining: 109ms\n",
            "79:\tlearn: 0.3805702\ttotal: 416ms\tremaining: 104ms\n",
            "80:\tlearn: 0.3804904\ttotal: 421ms\tremaining: 98.7ms\n",
            "81:\tlearn: 0.3804204\ttotal: 425ms\tremaining: 93.3ms\n",
            "82:\tlearn: 0.3798528\ttotal: 430ms\tremaining: 88.1ms\n",
            "83:\tlearn: 0.3791927\ttotal: 435ms\tremaining: 82.9ms\n",
            "84:\tlearn: 0.3786184\ttotal: 440ms\tremaining: 77.7ms\n",
            "85:\tlearn: 0.3784335\ttotal: 445ms\tremaining: 72.5ms\n",
            "86:\tlearn: 0.3784163\ttotal: 450ms\tremaining: 67.3ms\n",
            "87:\tlearn: 0.3783973\ttotal: 456ms\tremaining: 62.1ms\n",
            "88:\tlearn: 0.3778660\ttotal: 461ms\tremaining: 56.9ms\n",
            "89:\tlearn: 0.3778439\ttotal: 471ms\tremaining: 52.3ms\n",
            "90:\tlearn: 0.3777538\ttotal: 477ms\tremaining: 47.2ms\n",
            "91:\tlearn: 0.3773375\ttotal: 483ms\tremaining: 42ms\n",
            "92:\tlearn: 0.3769641\ttotal: 488ms\tremaining: 36.7ms\n",
            "93:\tlearn: 0.3769108\ttotal: 493ms\tremaining: 31.5ms\n",
            "94:\tlearn: 0.3768228\ttotal: 498ms\tremaining: 26.2ms\n",
            "95:\tlearn: 0.3765890\ttotal: 503ms\tremaining: 21ms\n",
            "96:\tlearn: 0.3765702\ttotal: 508ms\tremaining: 15.7ms\n",
            "97:\tlearn: 0.3764314\ttotal: 513ms\tremaining: 10.5ms\n",
            "98:\tlearn: 0.3760805\ttotal: 519ms\tremaining: 5.24ms\n",
            "99:\tlearn: 0.3759997\ttotal: 524ms\tremaining: 0us\n"
          ],
          "name": "stdout"
        }
      ]
    },
    {
      "cell_type": "code",
      "metadata": {
        "id": "8tk0zMAl4HxJ",
        "colab": {
          "base_uri": "https://localhost:8080/",
          "height": 428
        },
        "outputId": "ba9a5b32-248d-4a53-ff32-c4f9c2acf71c"
      },
      "source": [
        "from sklearn.metrics import roc_curve\n",
        "from sklearn.metrics import auc\n",
        "\n",
        "train_auc = roc_auc_score(y_train, y_train_predicted)\n",
        "test_auc = roc_auc_score(y_test, y_test_predicted)\n",
        "\n",
        "plt.figure(figsize=(10,7))\n",
        "plt.plot(*roc_curve(y_train, y_train_predicted)[:2], label='train AUC={:.4f}'.format(train_auc))\n",
        "plt.plot(*roc_curve(y_test, y_test_predicted)[:2], label='test AUC={:.4f}'.format(test_auc))\n",
        "legend_box = plt.legend(fontsize='large', framealpha=1).get_frame()\n",
        "legend_box.set_facecolor(\"white\")\n",
        "legend_box.set_edgecolor(\"black\")\n",
        "plt.plot(np.linspace(0,1,100), np.linspace(0,1,100))\n",
        "plt.show()\n"
      ],
      "execution_count": null,
      "outputs": [
        {
          "output_type": "display_data",
          "data": {
            "image/png": "[encoded data removed]",
            "text/plain": [
              "<Figure size 720x504 with 1 Axes>"
            ]
          },
          "metadata": {
            "tags": [],
            "needs_background": "light"
          }
        }
      ]
    },
    {
      "cell_type": "code",
      "metadata": {
        "id": "G_P4wFNaEEZW"
      },
      "source": [
        "best_model = boosting_model\n"
      ],
      "execution_count": null,
      "outputs": []
    },
    {
      "cell_type": "code",
      "metadata": {
        "id": "FfSufx0CEEZZ"
      },
      "source": [
        "X_test = pd.read_csv('/content/drive/My Drive/HW3/test.csv')\n",
        "submission = pd.read_csv('/content/drive/My Drive/HW3/submission.csv')\n",
        "\n",
        "submission['Churn'] =  best_model.predict_proba(X_test)[:, 1] #best_model.predict(X_test)\n",
        "submission.to_csv('/my_submission7.csv',index=False)"
      ],
      "execution_count": null,
      "outputs": []
    }
  ]
}
